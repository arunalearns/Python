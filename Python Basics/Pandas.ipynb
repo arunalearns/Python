{
 "cells": [
  {
   "cell_type": "code",
   "execution_count": 6,
   "id": "30f9e918-55a1-460f-8da9-bd447ea33c21",
   "metadata": {},
   "outputs": [
    {
     "name": "stdout",
     "output_type": "stream",
     "text": [
      "0    10\n",
      "1    20\n",
      "2    30\n",
      "dtype: int64\n",
      "RangeIndex(start=0, stop=3, step=1)\n",
      "[10 20 30]\n"
     ]
    }
   ],
   "source": [
    "# Series\n",
    "\n",
    "import pandas as pd\n",
    "\n",
    "my_list = [10,20,30]\n",
    "\n",
    "data = pd.Series(my_list)\n",
    "\n",
    "print(data)\n",
    "print(data.index) # provide the range of index\n",
    "print(data.values) # display the values"
   ]
  },
  {
   "cell_type": "markdown",
   "id": "ea0b45db-67c4-428a-9281-7f947727ad16",
   "metadata": {
    "jp-MarkdownHeadingCollapsed": true
   },
   "source": [
    "my_list = [10,20,30]\n",
    "\n",
    "data = pd.Series(my_list)\n",
    "data\n",
    "\n",
    "0    10\n",
    "1    20\n",
    "2    30\n",
    "dtype: int64\n",
    "\n",
    "\n",
    "1.The left side (0,1,2,3,4) is the index (like row numbers in Excel).\n",
    "2.The right side (10,20,30,40,50) is the actual data.\n",
    "3.It’s like a labeled list!\n",
    "\n"
   ]
  },
  {
   "cell_type": "code",
   "execution_count": 9,
   "id": "0afefbe8-4355-4081-8592-e7c686f87806",
   "metadata": {},
   "outputs": [
    {
     "data": {
      "text/plain": [
       "a    10\n",
       "b    20\n",
       "c    20\n",
       "dtype: int64"
      ]
     },
     "execution_count": 9,
     "metadata": {},
     "output_type": "execute_result"
    }
   ],
   "source": [
    "import numpy as np\n",
    "import pandas as pd \n",
    "\n",
    "index = ['a','b','c']\n",
    "array = np.array([10,20,20])\n",
    "\n",
    "a = pd.Series(data=array,index=index)\n",
    "a"
   ]
  },
  {
   "cell_type": "code",
   "execution_count": 10,
   "id": "e988d146-3c86-4b44-a917-def43316a9ab",
   "metadata": {},
   "outputs": [
    {
     "data": {
      "text/plain": [
       "a    10\n",
       "b    20\n",
       "c    30\n",
       "dtype: int64"
      ]
     },
     "execution_count": 10,
     "metadata": {},
     "output_type": "execute_result"
    }
   ],
   "source": [
    "# Creating series from dictionaries\n",
    "d = {'a':10, 'b':20, 'c':30}\n",
    "pd.Series(d)"
   ]
  },
  {
   "cell_type": "code",
   "execution_count": 20,
   "id": "47ce5d88-b397-4d3b-9c95-322d56df6501",
   "metadata": {},
   "outputs": [
    {
     "name": "stdout",
     "output_type": "stream",
     "text": [
      "EUR\n"
     ]
    }
   ],
   "source": [
    "# Pandas makes use of these index names or numbers by allowing for fast lookups of information (works like a hash table or dictionary).\n",
    "data = pd.Series(['USA','NY','EUR'],index=[1,2,3])\n",
    "data2 = pd.Series(['Ind','MY','EUR'],index=[1,2,3])\n",
    "print(data[3])"
   ]
  },
  {
   "cell_type": "code",
   "execution_count": 22,
   "id": "163b1f3e-a4a8-4e77-9d4b-620e6bb3ad84",
   "metadata": {},
   "outputs": [
    {
     "name": "stdout",
     "output_type": "stream",
     "text": [
      "1    USA Ind\n",
      "2      NY MY\n",
      "3    EUR EUR\n",
      "dtype: object\n"
     ]
    }
   ],
   "source": [
    "print(data+' '+data2)"
   ]
  },
  {
   "cell_type": "markdown",
   "id": "d97b6bdf-dd71-4399-9c50-909b0599e18e",
   "metadata": {},
   "source": [
    "# Dataframe\n",
    "A DataFrame is like a full table in Excel with multiple columns and rows."
   ]
  },
  {
   "cell_type": "code",
   "execution_count": 29,
   "id": "86623ffe-70c3-44a1-b69d-38b316daa951",
   "metadata": {},
   "outputs": [
    {
     "name": "stdout",
     "output_type": "stream",
     "text": [
      "   a  b  c\n",
      "0  1  2  3\n",
      "1  3  4  5\n",
      "2  5  6  7\n",
      "3  7  8  9\n",
      "(4, 3)\n"
     ]
    },
    {
     "data": {
      "text/plain": [
       "RangeIndex(start=0, stop=4, step=1)"
      ]
     },
     "execution_count": 29,
     "metadata": {},
     "output_type": "execute_result"
    }
   ],
   "source": [
    "df = pd.DataFrame([[1, 2, 3],\n",
    "                   [3, 4, 5],\n",
    "                   [5, 6, 7],\n",
    "                   [7, 8, 9]],columns=['a','b','c'])\n",
    "print(df)\n",
    "print(df.shape)\n",
    "df.index"
   ]
  },
  {
   "cell_type": "markdown",
   "id": "62d1a0f6-8714-45c6-a5fe-5085ffa4b600",
   "metadata": {},
   "source": [
    "Each column is a Series, and together they form a DataFrame.\n",
    "\n",
    "📌 Think of it like:📊 DataFrame = A full table (like an Excel sheet with multiple columns)."
   ]
  },
  {
   "cell_type": "code",
   "execution_count": 35,
   "id": "04b08235-96fe-4538-b47d-33925d4ddc00",
   "metadata": {},
   "outputs": [
    {
     "name": "stdout",
     "output_type": "stream",
     "text": [
      "a    10\n",
      "b    20\n",
      "c    30\n",
      "dtype: int64\n"
     ]
    },
    {
     "data": {
      "text/html": [
       "<div>\n",
       "<style scoped>\n",
       "    .dataframe tbody tr th:only-of-type {\n",
       "        vertical-align: middle;\n",
       "    }\n",
       "\n",
       "    .dataframe tbody tr th {\n",
       "        vertical-align: top;\n",
       "    }\n",
       "\n",
       "    .dataframe thead th {\n",
       "        text-align: right;\n",
       "    }\n",
       "</style>\n",
       "<table border=\"1\" class=\"dataframe\">\n",
       "  <thead>\n",
       "    <tr style=\"text-align: right;\">\n",
       "      <th></th>\n",
       "      <th>abc</th>\n",
       "    </tr>\n",
       "  </thead>\n",
       "  <tbody>\n",
       "    <tr>\n",
       "      <th>a</th>\n",
       "      <td>10</td>\n",
       "    </tr>\n",
       "    <tr>\n",
       "      <th>b</th>\n",
       "      <td>20</td>\n",
       "    </tr>\n",
       "    <tr>\n",
       "      <th>c</th>\n",
       "      <td>30</td>\n",
       "    </tr>\n",
       "  </tbody>\n",
       "</table>\n",
       "</div>"
      ],
      "text/plain": [
       "   abc\n",
       "a   10\n",
       "b   20\n",
       "c   30"
      ]
     },
     "execution_count": 35,
     "metadata": {},
     "output_type": "execute_result"
    }
   ],
   "source": [
    "d = {'a':10, 'b':20, 'c':30}\n",
    "c=pd.Series(d)\n",
    "print(c)\n",
    "pd.DataFrame(c,columns=['abc'])"
   ]
  },
  {
   "cell_type": "code",
   "execution_count": null,
   "id": "5f7ea8a5-d210-4425-8d08-33f5529c0d6e",
   "metadata": {},
   "outputs": [],
   "source": []
  }
 ],
 "metadata": {
  "kernelspec": {
   "display_name": "Python 3 (ipykernel)",
   "language": "python",
   "name": "python3"
  },
  "language_info": {
   "codemirror_mode": {
    "name": "ipython",
    "version": 3
   },
   "file_extension": ".py",
   "mimetype": "text/x-python",
   "name": "python",
   "nbconvert_exporter": "python",
   "pygments_lexer": "ipython3",
   "version": "3.12.8"
  }
 },
 "nbformat": 4,
 "nbformat_minor": 5
}
