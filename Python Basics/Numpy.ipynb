{
 "cells": [
  {
   "cell_type": "markdown",
   "id": "2f0660c7-bc31-4153-91d9-ab831cd62d03",
   "metadata": {},
   "source": [
    "NumPy, which stands for Numerical Python, is a library consisting of multidimensional array objects and a collection of routines for processing those arrays. Using NumPy, mathematical and logical operations on arrays can be performed. In this part, along with the basics of NumPy such as its architecture and environment, we shall also discuss the various array functions, types of indexing, etc.\n",
    "\n",
    "We can install numpy by pip install numpy\n",
    "\n",
    "Main object: ndarray"
   ]
  },
  {
   "cell_type": "markdown",
   "id": "507b29af-4bfa-4f9f-a5cd-412731fdf6c9",
   "metadata": {},
   "source": [
    "How do I create Arrays in Python?\n",
    "Create an array from a regular Python list or tuple using the array function.\n",
    "\n",
    "The type of the resulting array is deduced from the type of the elements in the sequences\n",
    "\n",
    "It creates an ndarray from any object exposing array interface, or from any method that returns an array."
   ]
  },
  {
   "cell_type": "code",
   "execution_count": 1,
   "id": "64c4323a-65ae-4eda-9175-1f2cd83fbff8",
   "metadata": {},
   "outputs": [
    {
     "name": "stdout",
     "output_type": "stream",
     "text": [
      "Requirement already satisfied: numpy in c:\\users\\aruna tangirala\\documents\\anu_documents\\lib\\site-packages (2.2.2)\n",
      "Note: you may need to restart the kernel to use updated packages.\n"
     ]
    },
    {
     "name": "stderr",
     "output_type": "stream",
     "text": [
      "\n",
      "[notice] A new release of pip is available: 24.3.1 -> 25.0\n",
      "[notice] To update, run: python.exe -m pip install --upgrade pip\n"
     ]
    }
   ],
   "source": [
    "pip install numpy"
   ]
  },
  {
   "cell_type": "code",
   "execution_count": 20,
   "id": "0cf222cb-e42e-48db-af87-66a485734a58",
   "metadata": {},
   "outputs": [
    {
     "data": {
      "text/plain": [
       "array([10, 20, 30])"
      ]
     },
     "execution_count": 20,
     "metadata": {},
     "output_type": "execute_result"
    }
   ],
   "source": [
    "import numpy as np\n",
    "# From list: 1d array \n",
    "my_list = [10, 20, 30]\n",
    "\n",
    "my_array=np.array(my_list) # function np.array will help to convert python list to array\n",
    "my_array"
   ]
  },
  {
   "cell_type": "code",
   "execution_count": 23,
   "id": "2704d10f-2f34-4cb4-8aed-767cbdaef5e6",
   "metadata": {},
   "outputs": [],
   "source": [
    "# From list: 2d array\n",
    "\n",
    "new_array = np.array([40, 50, 60])\n",
    "\n",
    "\n",
    "my_2d_array = np.append(my_array, new_array, axis=0).reshape(2,-1) # This np.append function can be used to combine two array ,\n",
    "                                                                    # in this python append cannot be used. Reshape() function determines rows and cols of the array \n",
    "                                                                    #  or can create a new shape as well \n",
    "                                                                    # axis = 0 means it will add or append row wise if axis=1 then it will append column wise\n"
   ]
  },
  {
   "cell_type": "code",
   "execution_count": 24,
   "id": "75222723-50c0-4193-8cee-22064acda447",
   "metadata": {},
   "outputs": [
    {
     "data": {
      "text/plain": [
       "array([[10, 20, 30],\n",
       "       [40, 50, 60]])"
      ]
     },
     "execution_count": 24,
     "metadata": {},
     "output_type": "execute_result"
    }
   ],
   "source": [
    "my_2d_array"
   ]
  },
  {
   "cell_type": "code",
   "execution_count": 33,
   "id": "ef792cf0-8c93-4bc0-8437-e3247818f030",
   "metadata": {},
   "outputs": [
    {
     "ename": "AxisError",
     "evalue": "axis 1 is out of bounds for array of dimension 1",
     "output_type": "error",
     "traceback": [
      "\u001b[1;31m---------------------------------------------------------------------------\u001b[0m",
      "\u001b[1;31mAxisError\u001b[0m                                 Traceback (most recent call last)",
      "Cell \u001b[1;32mIn[33], line 2\u001b[0m\n\u001b[0;32m      1\u001b[0m new_col \u001b[38;5;241m=\u001b[39m np\u001b[38;5;241m.\u001b[39marray([\u001b[38;5;241m100\u001b[39m,\u001b[38;5;241m200\u001b[39m])\u001b[38;5;241m.\u001b[39mreshape(\u001b[38;5;241m-\u001b[39m\u001b[38;5;241m1\u001b[39m,\u001b[38;5;241m1\u001b[39m)\n\u001b[1;32m----> 2\u001b[0m new_array \u001b[38;5;241m=\u001b[39m \u001b[43mnp\u001b[49m\u001b[38;5;241;43m.\u001b[39;49m\u001b[43mappend\u001b[49m\u001b[43m(\u001b[49m\u001b[43mnew_array\u001b[49m\u001b[43m,\u001b[49m\u001b[43mnew_col\u001b[49m\u001b[43m,\u001b[49m\u001b[43m \u001b[49m\u001b[43maxis\u001b[49m\u001b[38;5;241;43m=\u001b[39;49m\u001b[38;5;241;43m1\u001b[39;49m\u001b[43m)\u001b[49m\n",
      "File \u001b[1;32m~\\Documents\\Anu_Documents\\Lib\\site-packages\\numpy\\lib\\_function_base_impl.py:5711\u001b[0m, in \u001b[0;36mappend\u001b[1;34m(arr, values, axis)\u001b[0m\n\u001b[0;32m   5709\u001b[0m     values \u001b[38;5;241m=\u001b[39m ravel(values)\n\u001b[0;32m   5710\u001b[0m     axis \u001b[38;5;241m=\u001b[39m arr\u001b[38;5;241m.\u001b[39mndim\u001b[38;5;241m-\u001b[39m\u001b[38;5;241m1\u001b[39m\n\u001b[1;32m-> 5711\u001b[0m \u001b[38;5;28;01mreturn\u001b[39;00m \u001b[43mconcatenate\u001b[49m\u001b[43m(\u001b[49m\u001b[43m(\u001b[49m\u001b[43marr\u001b[49m\u001b[43m,\u001b[49m\u001b[43m \u001b[49m\u001b[43mvalues\u001b[49m\u001b[43m)\u001b[49m\u001b[43m,\u001b[49m\u001b[43m \u001b[49m\u001b[43maxis\u001b[49m\u001b[38;5;241;43m=\u001b[39;49m\u001b[43maxis\u001b[49m\u001b[43m)\u001b[49m\n",
      "\u001b[1;31mAxisError\u001b[0m: axis 1 is out of bounds for array of dimension 1"
     ]
    }
   ],
   "source": [
    "new_col = np.array([100,200]).reshape(-1,1)\n",
    "new_array = np.append(new_array,new_col, axis=1)\n"
   ]
  },
  {
   "cell_type": "code",
   "execution_count": 34,
   "id": "f2f55fc5-3ef2-464e-a532-77a9eea3c862",
   "metadata": {},
   "outputs": [
    {
     "data": {
      "text/plain": [
       "array([[10, 20, 30],\n",
       "       [40, 50, 60]])"
      ]
     },
     "execution_count": 34,
     "metadata": {},
     "output_type": "execute_result"
    }
   ],
   "source": [
    "my_2d_array"
   ]
  },
  {
   "cell_type": "code",
   "execution_count": 35,
   "id": "09db50f0-3be7-4f85-9287-5ee935ba0995",
   "metadata": {},
   "outputs": [],
   "source": [
    "new_col = np.array([100, 200]).reshape(-1, 1)  # Shape (2,1)"
   ]
  },
  {
   "cell_type": "code",
   "execution_count": 36,
   "id": "6f15def9-6e2b-476a-a5b2-51e40af7906d",
   "metadata": {},
   "outputs": [],
   "source": [
    "my_2d_array = np.append(my_2d_array, new_col, axis=1)"
   ]
  },
  {
   "cell_type": "code",
   "execution_count": 37,
   "id": "c3dd6240-713b-48b6-ab35-2689a3a51a56",
   "metadata": {},
   "outputs": [
    {
     "data": {
      "text/plain": [
       "array([[ 10,  20,  30, 100],\n",
       "       [ 40,  50,  60, 200]])"
      ]
     },
     "execution_count": 37,
     "metadata": {},
     "output_type": "execute_result"
    }
   ],
   "source": [
    "my_2d_array"
   ]
  },
  {
   "cell_type": "code",
   "execution_count": 38,
   "id": "62565bf2-ddd8-4705-820e-41eeb8e3df04",
   "metadata": {},
   "outputs": [
    {
     "data": {
      "text/plain": [
       "array([[100],\n",
       "       [200]])"
      ]
     },
     "execution_count": 38,
     "metadata": {},
     "output_type": "execute_result"
    }
   ],
   "source": [
    "new_col"
   ]
  },
  {
   "cell_type": "code",
   "execution_count": 39,
   "id": "3e4af835-29cd-41d8-af0c-8390bde4d25a",
   "metadata": {},
   "outputs": [
    {
     "data": {
      "text/plain": [
       "array([10, 20, 30])"
      ]
     },
     "execution_count": 39,
     "metadata": {},
     "output_type": "execute_result"
    }
   ],
   "source": [
    "my_array"
   ]
  },
  {
   "cell_type": "code",
   "execution_count": 40,
   "id": "394e7070-7820-4807-b483-c4794a8760a8",
   "metadata": {},
   "outputs": [],
   "source": [
    "my_array=np.append(my_array,100) # adding column to 1D"
   ]
  },
  {
   "cell_type": "code",
   "execution_count": 41,
   "id": "bef361a8-d758-4e7c-9265-cc610758466e",
   "metadata": {},
   "outputs": [
    {
     "data": {
      "text/plain": [
       "array([ 10,  20,  30, 100])"
      ]
     },
     "execution_count": 41,
     "metadata": {},
     "output_type": "execute_result"
    }
   ],
   "source": [
    "my_array"
   ]
  },
  {
   "cell_type": "code",
   "execution_count": 42,
   "id": "31f107da-3c78-48bd-b04a-53e8391a69a8",
   "metadata": {},
   "outputs": [],
   "source": [
    "new_array = np.append(new_array,200) # adding column to 1D"
   ]
  },
  {
   "cell_type": "code",
   "execution_count": 43,
   "id": "31dc9930-df45-4d9c-a6fd-e9f3fa18fe47",
   "metadata": {},
   "outputs": [
    {
     "data": {
      "text/plain": [
       "array([ 40,  50,  60, 200])"
      ]
     },
     "execution_count": 43,
     "metadata": {},
     "output_type": "execute_result"
    }
   ],
   "source": [
    "new_array"
   ]
  },
  {
   "cell_type": "code",
   "execution_count": 44,
   "id": "d243cda5-cf0d-4fc8-bd89-4699ed642d60",
   "metadata": {},
   "outputs": [],
   "source": [
    "my_2d2_array = np.append(my_array,new_array,axis=0).reshape(2,-1) # then appending two arrays with new column"
   ]
  },
  {
   "cell_type": "code",
   "execution_count": 45,
   "id": "8fec4f46-305b-4978-9d12-86f6d53aae73",
   "metadata": {},
   "outputs": [
    {
     "data": {
      "text/plain": [
       "array([[ 10,  20,  30, 100],\n",
       "       [ 40,  50,  60, 200]])"
      ]
     },
     "execution_count": 45,
     "metadata": {},
     "output_type": "execute_result"
    }
   ],
   "source": [
    "my_2d2_array"
   ]
  },
  {
   "cell_type": "code",
   "execution_count": 46,
   "id": "6c417e9c-afb7-4580-8420-42d782480148",
   "metadata": {},
   "outputs": [
    {
     "data": {
      "text/plain": [
       "(2, 4)"
      ]
     },
     "execution_count": 46,
     "metadata": {},
     "output_type": "execute_result"
    }
   ],
   "source": [
    "my_2d2_array.shape # This will tell us dimesions of the array i.e no of row and column in each\n",
    "\n",
    "##array([[ 10,  20,  30, 100] ---> row 1,4 columns\n",
    "#       [ 40,  50,  60, 200] ----> row 2,4 columns])"
   ]
  },
  {
   "cell_type": "code",
   "execution_count": 47,
   "id": "0d013137-f205-489f-8c31-7e89b9899530",
   "metadata": {},
   "outputs": [
    {
     "data": {
      "text/plain": [
       "dtype('int64')"
      ]
     },
     "execution_count": 47,
     "metadata": {},
     "output_type": "execute_result"
    }
   ],
   "source": [
    "my_2d2_array.dtype # This will tell us the type "
   ]
  },
  {
   "cell_type": "code",
   "execution_count": 53,
   "id": "0eaab52b-1e0c-4d0f-bcf9-1e6dddadec20",
   "metadata": {},
   "outputs": [
    {
     "name": "stdout",
     "output_type": "stream",
     "text": [
      "[0 1 2 3 4 5 6 7 8 9]\n"
     ]
    },
    {
     "data": {
      "text/plain": [
       "array([0, 3, 6, 9])"
      ]
     },
     "execution_count": 53,
     "metadata": {},
     "output_type": "execute_result"
    }
   ],
   "source": [
    "# arrage ---> similar to range of python \n",
    "\n",
    "print(np.arange(0,10,1))\n",
    "np.arange(0,10,3)"
   ]
  },
  {
   "cell_type": "code",
   "execution_count": 56,
   "id": "b155ce8d-77c9-4201-b139-7060e984c056",
   "metadata": {},
   "outputs": [],
   "source": [
    "col = np.array([100,200]).reshape(2,1)"
   ]
  },
  {
   "cell_type": "code",
   "execution_count": 57,
   "id": "3a87671b-e112-4f71-b50e-435816ee78a4",
   "metadata": {},
   "outputs": [
    {
     "data": {
      "text/plain": [
       "array([[100],\n",
       "       [200]])"
      ]
     },
     "execution_count": 57,
     "metadata": {},
     "output_type": "execute_result"
    }
   ],
   "source": [
    "col"
   ]
  },
  {
   "cell_type": "code",
   "execution_count": 58,
   "id": "54874e73-cffe-46b5-a7ab-19c01298dcd0",
   "metadata": {},
   "outputs": [
    {
     "data": {
      "text/plain": [
       "array([[ 10,  20,  30, 100],\n",
       "       [ 40,  50,  60, 200]])"
      ]
     },
     "execution_count": 58,
     "metadata": {},
     "output_type": "execute_result"
    }
   ],
   "source": [
    "my_2d_array"
   ]
  },
  {
   "cell_type": "code",
   "execution_count": 59,
   "id": "b5d25bdf-9ebb-4d91-a05c-7267342fc7f2",
   "metadata": {},
   "outputs": [],
   "source": [
    "my_2d_array = np.append(my_2d_array,col,axis=1).reshape(2,-1)"
   ]
  },
  {
   "cell_type": "code",
   "execution_count": 60,
   "id": "605f8eec-2453-45fe-a790-85b6c7415732",
   "metadata": {},
   "outputs": [
    {
     "data": {
      "text/plain": [
       "array([[ 10,  20,  30, 100, 100],\n",
       "       [ 40,  50,  60, 200, 200]])"
      ]
     },
     "execution_count": 60,
     "metadata": {},
     "output_type": "execute_result"
    }
   ],
   "source": [
    "my_2d_array"
   ]
  },
  {
   "cell_type": "code",
   "execution_count": 61,
   "id": "e5238060-11c8-44ac-a7a2-a4955fa58c23",
   "metadata": {},
   "outputs": [
    {
     "data": {
      "text/plain": [
       "array([35, 15, 13,  7, 34, 18, 24, 26, 29, 21], dtype=int32)"
      ]
     },
     "execution_count": 61,
     "metadata": {},
     "output_type": "execute_result"
    }
   ],
   "source": [
    "np.random.randint(4, 40, 10)"
   ]
  },
  {
   "cell_type": "code",
   "execution_count": 64,
   "id": "65dcf058-2b75-41a9-b8dc-8655699e9b23",
   "metadata": {},
   "outputs": [],
   "source": [
    "array_1=np.random.randint(4, 40, 10)"
   ]
  },
  {
   "cell_type": "code",
   "execution_count": 65,
   "id": "d8319cfa-45a1-48cf-bc54-7f71c17bd45d",
   "metadata": {},
   "outputs": [
    {
     "data": {
      "text/plain": [
       "array([ 5, 24, 18, 24, 19, 17, 27, 20, 34, 11], dtype=int32)"
      ]
     },
     "execution_count": 65,
     "metadata": {},
     "output_type": "execute_result"
    }
   ],
   "source": [
    "array_1"
   ]
  },
  {
   "cell_type": "code",
   "execution_count": 69,
   "id": "a045ab8e-f87b-4dab-bdb3-cb14a0d0dc78",
   "metadata": {},
   "outputs": [],
   "source": [
    "arr=np.random.randint(50, size=(4,4))"
   ]
  },
  {
   "cell_type": "code",
   "execution_count": 68,
   "id": "59b6380a-41e6-4978-9d0d-1a3f362a0ccd",
   "metadata": {},
   "outputs": [
    {
     "data": {
      "text/plain": [
       "[5, 24, 18, 24, 19, 17, 27, 20, 34, 11]"
      ]
     },
     "execution_count": 68,
     "metadata": {},
     "output_type": "execute_result"
    }
   ],
   "source": [
    "array_1.tolist()"
   ]
  },
  {
   "cell_type": "code",
   "execution_count": 70,
   "id": "2f515c61-9181-4a90-9a7c-c6ac35288350",
   "metadata": {},
   "outputs": [
    {
     "data": {
      "text/plain": [
       "[[28, 45, 16, 6], [26, 12, 33, 12], [8, 26, 34, 48], [31, 10, 0, 15]]"
      ]
     },
     "execution_count": 70,
     "metadata": {},
     "output_type": "execute_result"
    }
   ],
   "source": [
    "arr.tolist()"
   ]
  },
  {
   "cell_type": "code",
   "execution_count": null,
   "id": "b23f7d1e-6a90-432c-82d0-7f3b056195e8",
   "metadata": {},
   "outputs": [],
   "source": []
  }
 ],
 "metadata": {
  "kernelspec": {
   "display_name": "Python 3 (ipykernel)",
   "language": "python",
   "name": "python3"
  },
  "language_info": {
   "codemirror_mode": {
    "name": "ipython",
    "version": 3
   },
   "file_extension": ".py",
   "mimetype": "text/x-python",
   "name": "python",
   "nbconvert_exporter": "python",
   "pygments_lexer": "ipython3",
   "version": "3.12.8"
  }
 },
 "nbformat": 4,
 "nbformat_minor": 5
}
