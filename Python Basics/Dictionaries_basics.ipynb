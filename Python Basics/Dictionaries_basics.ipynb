{
 "cells": [
  {
   "cell_type": "code",
   "execution_count": null,
   "id": "a1951658-83f8-46db-9a35-a6432abd13eb",
   "metadata": {},
   "outputs": [],
   "source": [
    "# Dictionaries #######\n",
    "# Linear collection of values of key-value pair look up by key or tag\n",
    "# Insert / update on list are done using position/index\n",
    "# Insert / update on disctionaries are done using key"
   ]
  },
  {
   "cell_type": "code",
   "execution_count": 17,
   "id": "c7bf7f79-6be3-4e68-b494-bf085ff11491",
   "metadata": {},
   "outputs": [],
   "source": [
    "my_dict = {'key1':'value1','key2':'value2'} "
   ]
  },
  {
   "cell_type": "code",
   "execution_count": 18,
   "id": "8a0b50a7-8d04-4da9-9a78-f05aa20582c4",
   "metadata": {},
   "outputs": [
    {
     "name": "stdout",
     "output_type": "stream",
     "text": [
      "{'key1': 'value1', 'key2': 'value2'}\n"
     ]
    }
   ],
   "source": [
    "print(my_dict)"
   ]
  },
  {
   "cell_type": "code",
   "execution_count": 41,
   "id": "8f70c593-dac8-48f7-a68d-eced8617dee9",
   "metadata": {},
   "outputs": [],
   "source": [
    "my_dict['key1'] = 23\n",
    "my_dict['key2'] = 24"
   ]
  },
  {
   "cell_type": "code",
   "execution_count": 35,
   "id": "7eaa9eee-9389-4b87-b6fd-bda8bfd9dc84",
   "metadata": {},
   "outputs": [
    {
     "name": "stdout",
     "output_type": "stream",
     "text": [
      "{'key1': 23, 'key2': 24}\n"
     ]
    }
   ],
   "source": [
    "print(my_dict)"
   ]
  },
  {
   "cell_type": "code",
   "execution_count": 42,
   "id": "d1917ccc-29e6-444d-8ee9-90e40f67e2ec",
   "metadata": {},
   "outputs": [],
   "source": [
    "my_dict['key2'] = my_dict['key2'] + 1"
   ]
  },
  {
   "cell_type": "code",
   "execution_count": 43,
   "id": "856214f2-0410-4a35-9e86-2cd2ebbbaadc",
   "metadata": {},
   "outputs": [
    {
     "name": "stdout",
     "output_type": "stream",
     "text": [
      "{'key1': 23, 'key2': 25}\n"
     ]
    }
   ],
   "source": [
    "print(my_dict)"
   ]
  },
  {
   "cell_type": "code",
   "execution_count": 44,
   "id": "0b74fab1-362f-45d8-9e58-32816c245250",
   "metadata": {},
   "outputs": [],
   "source": [
    "my_dict['key2'] += 1"
   ]
  },
  {
   "cell_type": "code",
   "execution_count": 45,
   "id": "d2c1ca66-736f-4fad-8fcd-15791ffb7c5f",
   "metadata": {},
   "outputs": [
    {
     "name": "stdout",
     "output_type": "stream",
     "text": [
      "{'key1': 23, 'key2': 26}\n"
     ]
    }
   ],
   "source": [
    "print(my_dict)"
   ]
  },
  {
   "cell_type": "code",
   "execution_count": 46,
   "id": "bf073790-3d4a-489d-b85a-7a2ac5a3f23b",
   "metadata": {},
   "outputs": [
    {
     "name": "stdout",
     "output_type": "stream",
     "text": [
      "{'name': ['Rahul', 'Arjun'], 'age': [21, 23]}\n"
     ]
    }
   ],
   "source": [
    "dd = dict()\n",
    "dd['name'] = ['Rahul','Arjun']\n",
    "dd['age']  = [21,23]\n",
    "\n",
    "print(dd)"
   ]
  },
  {
   "cell_type": "code",
   "execution_count": 51,
   "id": "2286a117-6538-4675-b7c4-c6851d83916d",
   "metadata": {},
   "outputs": [
    {
     "name": "stdout",
     "output_type": "stream",
     "text": [
      "['Rahul', 'Arjun']\n",
      "[21, 23]\n"
     ]
    }
   ],
   "source": [
    "print(dd['name'][0:2])\n",
    "print(dd['age'][0:2])"
   ]
  },
  {
   "cell_type": "code",
   "execution_count": 52,
   "id": "9d01eaba-2944-42ae-a41a-8250b2b9bec4",
   "metadata": {},
   "outputs": [],
   "source": [
    "dd['age'].append(31)\n",
    "dd['name'].append('Priya')"
   ]
  },
  {
   "cell_type": "code",
   "execution_count": 53,
   "id": "14153d6e-f0d8-439d-8dac-c44b16ea1b7a",
   "metadata": {},
   "outputs": [
    {
     "name": "stdout",
     "output_type": "stream",
     "text": [
      "{'name': ['Rahul', 'Arjun', 'Priya'], 'age': [21, 23, 31]}\n"
     ]
    }
   ],
   "source": [
    "print(dd)"
   ]
  },
  {
   "cell_type": "code",
   "execution_count": null,
   "id": "4b21159d-fc47-43c0-b496-c5e363ecb54a",
   "metadata": {},
   "outputs": [],
   "source": [
    "# HISTAGRAM"
   ]
  },
  {
   "cell_type": "code",
   "execution_count": 60,
   "id": "f635ff60-8b02-407e-b519-ba3d181918a5",
   "metadata": {},
   "outputs": [
    {
     "name": "stdout",
     "output_type": "stream",
     "text": [
      "{'a': 1, 'b': 1, 'c': 1}\n"
     ]
    }
   ],
   "source": [
    "# Count using dictionary\n",
    "\n",
    "count = dict()\n",
    "names = ['a','b','c']\n",
    "\n",
    "for i in names:\n",
    "    if i in count:\n",
    "        count[i] = count[i] + 1\n",
    "    else: \n",
    "        count[i] = 1\n",
    "print(count)"
   ]
  },
  {
   "cell_type": "code",
   "execution_count": 63,
   "id": "b7b289a0-a6d6-4ced-9340-f71f0d18b93a",
   "metadata": {},
   "outputs": [
    {
     "name": "stdout",
     "output_type": "stream",
     "text": [
      "{'a': 1, 'b': 1, 'c': 1}\n"
     ]
    }
   ],
   "source": [
    "# Count using dictionaries in built function\n",
    "count = dict()\n",
    "names = ['a','b','c']\n",
    "\n",
    "for i in names:\n",
    "     count[i] = count.get(i,0)+1\n",
    "print(count)"
   ]
  },
  {
   "cell_type": "code",
   "execution_count": 64,
   "id": "95074ba7-818e-454d-93e5-9071e8b2c448",
   "metadata": {},
   "outputs": [
    {
     "name": "stdin",
     "output_type": "stream",
     "text": [
      "Enter the line: Hello Aruna\n"
     ]
    },
    {
     "name": "stdout",
     "output_type": "stream",
     "text": [
      "Hello Aruna\n"
     ]
    }
   ],
   "source": [
    "count = dict()\n",
    "line = input('Enter the line:')\n",
    "print(line)"
   ]
  },
  {
   "cell_type": "code",
   "execution_count": 66,
   "id": "24d16d65-bc11-43c5-b364-3dbbb85fc693",
   "metadata": {},
   "outputs": [
    {
     "name": "stdin",
     "output_type": "stream",
     "text": [
      "Enter the line: Hello Hello Aruna\n"
     ]
    },
    {
     "name": "stdout",
     "output_type": "stream",
     "text": [
      "['Hello', 'Hello', 'Aruna']\n",
      "{'Hello': 2, 'Aruna': 1}\n"
     ]
    }
   ],
   "source": [
    "# To learn how to count words using dictionaries\n",
    "\n",
    "count = dict()\n",
    "line = input('Enter the line:')\n",
    "\n",
    "words=line.split()\n",
    "print(words)\n",
    "\n",
    "for i in words:\n",
    "    count[i]=count.get(i,0)+1\n",
    "print(count)"
   ]
  },
  {
   "cell_type": "code",
   "execution_count": 67,
   "id": "2ca98202-136d-41f5-98ff-499f400694b3",
   "metadata": {},
   "outputs": [
    {
     "name": "stdout",
     "output_type": "stream",
     "text": [
      "{'Hello': 2, 'Aruna': 1}\n"
     ]
    }
   ],
   "source": [
    "print(count)\n"
   ]
  },
  {
   "cell_type": "code",
   "execution_count": 74,
   "id": "b91a7e11-c85f-482e-a0bb-461de47831c4",
   "metadata": {},
   "outputs": [
    {
     "name": "stdout",
     "output_type": "stream",
     "text": [
      "Hello 2\n",
      "Aruna 1\n"
     ]
    }
   ],
   "source": [
    "# Directly count using the key or tag from dictionary\n",
    "# count = {'Hello': 2, 'Aruna': 1}\n",
    "for key in count:\n",
    "    print(key,count[key])"
   ]
  },
  {
   "cell_type": "code",
   "execution_count": null,
   "id": "6dede89a-d90f-45f7-929c-716b4b5bc620",
   "metadata": {},
   "outputs": [],
   "source": [
    "# To learn how to retrieve keys and values or both in dictionary"
   ]
  },
  {
   "cell_type": "code",
   "execution_count": 70,
   "id": "e4cafba1-c703-45c4-82e3-9cd2daf34656",
   "metadata": {},
   "outputs": [
    {
     "name": "stdout",
     "output_type": "stream",
     "text": [
      "['Hello', 'Aruna']\n"
     ]
    }
   ],
   "source": [
    "print(list(count)) # It will only give key values"
   ]
  },
  {
   "cell_type": "code",
   "execution_count": 71,
   "id": "1d1d2a98-37e3-4404-866b-fac92e082591",
   "metadata": {},
   "outputs": [
    {
     "name": "stdout",
     "output_type": "stream",
     "text": [
      "['Hello', 'Aruna']\n"
     ]
    }
   ],
   "source": [
    "print(list(count.keys())) # It will only give keys"
   ]
  },
  {
   "cell_type": "code",
   "execution_count": 73,
   "id": "aeb70992-cd08-4eb4-bc65-8649a8e83b02",
   "metadata": {},
   "outputs": [
    {
     "name": "stdout",
     "output_type": "stream",
     "text": [
      "[2, 1]\n"
     ]
    }
   ],
   "source": [
    "print(list(count.values())) # It will only give values"
   ]
  },
  {
   "cell_type": "code",
   "execution_count": 77,
   "id": "116d135f-0d9f-4e5a-af79-6071a1adca99",
   "metadata": {},
   "outputs": [
    {
     "name": "stdout",
     "output_type": "stream",
     "text": [
      "[('Hello', 2), ('Aruna', 1)]\n"
     ]
    }
   ],
   "source": [
    "print(list(count.items())) # It will provide you result in tupple"
   ]
  },
  {
   "cell_type": "code",
   "execution_count": 76,
   "id": "81cacad6-abb9-44a4-9298-b80a8cc4f213",
   "metadata": {},
   "outputs": [
    {
     "name": "stdout",
     "output_type": "stream",
     "text": [
      "Hello 2\n",
      "Aruna 1\n"
     ]
    }
   ],
   "source": [
    "for key,value in count.items(): # It will give you result together.\n",
    "    print(key,value)"
   ]
  },
  {
   "cell_type": "code",
   "execution_count": 78,
   "id": "5226de99-fddc-4f53-8326-54b6934e8c76",
   "metadata": {},
   "outputs": [],
   "source": [
    "# Set and bolean"
   ]
  },
  {
   "cell_type": "code",
   "execution_count": 79,
   "id": "274c73c5-593d-493c-87ee-1a5c0d957a67",
   "metadata": {},
   "outputs": [
    {
     "data": {
      "text/plain": [
       "{1, 2, 3}"
      ]
     },
     "execution_count": 79,
     "metadata": {},
     "output_type": "execute_result"
    }
   ],
   "source": [
    "l = [1,1,1,1,1,2,3,3,3] # Set will give only provide unique value.\n",
    "set(l)"
   ]
  },
  {
   "cell_type": "code",
   "execution_count": 81,
   "id": "690ff52f-fad2-42f1-8029-21a25ad4701f",
   "metadata": {},
   "outputs": [
    {
     "name": "stdout",
     "output_type": "stream",
     "text": [
      "{1, 2, 3}\n"
     ]
    }
   ],
   "source": [
    "print(set(l))"
   ]
  },
  {
   "cell_type": "code",
   "execution_count": 82,
   "id": "4aa8b649-1e95-473c-8222-56aad9674a33",
   "metadata": {},
   "outputs": [],
   "source": [
    "x = set(l)"
   ]
  },
  {
   "cell_type": "code",
   "execution_count": 83,
   "id": "b02e36fa-1a25-4734-ada9-48f9a12027bc",
   "metadata": {},
   "outputs": [],
   "source": [
    "x.add(4)"
   ]
  },
  {
   "cell_type": "code",
   "execution_count": 84,
   "id": "7ecf03c3-03ca-4223-afbe-fa59b8058129",
   "metadata": {},
   "outputs": [
    {
     "name": "stdout",
     "output_type": "stream",
     "text": [
      "{1, 2, 3, 4}\n"
     ]
    }
   ],
   "source": [
    "print(x)"
   ]
  }
 ],
 "metadata": {
  "kernelspec": {
   "display_name": "Python 3 (ipykernel)",
   "language": "python",
   "name": "python3"
  },
  "language_info": {
   "codemirror_mode": {
    "name": "ipython",
    "version": 3
   },
   "file_extension": ".py",
   "mimetype": "text/x-python",
   "name": "python",
   "nbconvert_exporter": "python",
   "pygments_lexer": "ipython3",
   "version": "3.12.8"
  }
 },
 "nbformat": 4,
 "nbformat_minor": 5
}
