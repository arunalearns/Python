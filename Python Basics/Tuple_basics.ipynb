{
 "cells": [
  {
   "cell_type": "code",
   "execution_count": null,
   "id": "b0b6ca97-79bf-425f-a84c-2d1192114152",
   "metadata": {},
   "outputs": [],
   "source": [
    "# Tuples # "
   ]
  },
  {
   "cell_type": "code",
   "execution_count": 20,
   "id": "3952c857-485a-461e-9498-2d5b498cd645",
   "metadata": {},
   "outputs": [],
   "source": [
    "# Differnce between list and tuple\n",
    "# List are mutable and Tuple is immutable\n",
    "# List are reversible and Tuple is not reversible\n",
    "# List are sortable and Tuple is not sortable\n"
   ]
  },
  {
   "cell_type": "code",
   "execution_count": 2,
   "id": "7183bef0-eecf-41fc-ab0e-49947cd3a4a0",
   "metadata": {},
   "outputs": [
    {
     "data": {
      "text/plain": [
       "dict_items([('a', 2), ('b', 3), ('c', 4)])"
      ]
     },
     "execution_count": 2,
     "metadata": {},
     "output_type": "execute_result"
    }
   ],
   "source": [
    "# Converting dictionary to tuple \n",
    "d = {'a':2,'b':3,'c':4}\n",
    "d.items()"
   ]
  },
  {
   "cell_type": "code",
   "execution_count": 3,
   "id": "125c7f8b-2f8b-4347-8bb6-7f1cd8afaa01",
   "metadata": {},
   "outputs": [],
   "source": [
    "# After  converting  them to dictionary now can be sorted"
   ]
  },
  {
   "cell_type": "code",
   "execution_count": 5,
   "id": "c50d5f29-719a-4ab1-ac46-33d4c9b6e651",
   "metadata": {},
   "outputs": [
    {
     "data": {
      "text/plain": [
       "[('a', 2), ('b', 3), ('c', 4)]"
      ]
     },
     "execution_count": 5,
     "metadata": {},
     "output_type": "execute_result"
    }
   ],
   "source": [
    "sorted(d.items()) # sorted fucntion sorted ()sort it by key"
   ]
  },
  {
   "cell_type": "code",
   "execution_count": 6,
   "id": "ed55fa29-edbb-40df-907d-f2bfa64957f0",
   "metadata": {},
   "outputs": [
    {
     "data": {
      "text/plain": [
       "[('c', 4), ('b', 3), ('a', 2)]"
      ]
     },
     "execution_count": 6,
     "metadata": {},
     "output_type": "execute_result"
    }
   ],
   "source": [
    "sorted(d.items(),reverse=True)"
   ]
  },
  {
   "cell_type": "code",
   "execution_count": 8,
   "id": "d9ddef1f-2797-44bb-ab6f-5ad1dc6f05a4",
   "metadata": {},
   "outputs": [],
   "source": [
    "# Why Tupples are more effective ?\n",
    "  # When we need tempory variables, we prefer tuples over list"
   ]
  },
  {
   "cell_type": "code",
   "execution_count": 17,
   "id": "7cf77f93-93f6-4cf7-8e90-8db8feae0322",
   "metadata": {},
   "outputs": [
    {
     "name": "stdout",
     "output_type": "stream",
     "text": [
      "[(1, 'b'), (2, 'a'), (4, 'c')]\n"
     ]
    }
   ],
   "source": [
    "d = {'a':2,'b':1,'c':4} # ascending order\n",
    "print(sorted((v,k) for (k,v) in d.items()))"
   ]
  },
  {
   "cell_type": "code",
   "execution_count": 18,
   "id": "52049fcf-c604-4e15-a75e-bd1dc8772dad",
   "metadata": {},
   "outputs": [
    {
     "name": "stdout",
     "output_type": "stream",
     "text": [
      "[(4, 'c'), (2, 'a'), (1, 'b')]\n"
     ]
    }
   ],
   "source": [
    "d = {'a': 2, 'b': 1, 'c': 4} # descending order\n",
    "print(sorted([(v, k) for (k, v) in d.items()], reverse=True))"
   ]
  },
  {
   "cell_type": "code",
   "execution_count": null,
   "id": "dc341fd5-8c68-44c3-bb68-d4ecc3cd45ff",
   "metadata": {},
   "outputs": [],
   "source": []
  }
 ],
 "metadata": {
  "kernelspec": {
   "display_name": "Python 3 (ipykernel)",
   "language": "python",
   "name": "python3"
  },
  "language_info": {
   "codemirror_mode": {
    "name": "ipython",
    "version": 3
   },
   "file_extension": ".py",
   "mimetype": "text/x-python",
   "name": "python",
   "nbconvert_exporter": "python",
   "pygments_lexer": "ipython3",
   "version": "3.12.8"
  }
 },
 "nbformat": 4,
 "nbformat_minor": 5
}
