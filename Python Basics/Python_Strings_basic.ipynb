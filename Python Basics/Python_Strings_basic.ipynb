{
 "cells": [
  {
   "cell_type": "code",
   "execution_count": null,
   "id": "b074b236-311e-4c11-af30-e18aaa78e926",
   "metadata": {},
   "outputs": [],
   "source": [
    "###########  STRINGS  #################"
   ]
  },
  {
   "cell_type": "code",
   "execution_count": 1,
   "id": "5e8e4418-2512-49b6-818b-ce359b8c3c7e",
   "metadata": {},
   "outputs": [
    {
     "name": "stdout",
     "output_type": "stream",
     "text": [
      "Aruna Tangirala\n"
     ]
    }
   ],
   "source": [
    "#print your name here\n",
    "print(\"Aruna Tangirala\")"
   ]
  },
  {
   "cell_type": "code",
   "execution_count": null,
   "id": "d620e5d2-7ee2-4ca7-94c5-52c583589505",
   "metadata": {},
   "outputs": [],
   "source": [
    "###########  Variable  #################"
   ]
  },
  {
   "cell_type": "code",
   "execution_count": 2,
   "id": "fff51161-5a23-41b4-a055-96547853b1ae",
   "metadata": {},
   "outputs": [
    {
     "name": "stdout",
     "output_type": "stream",
     "text": [
      "H\n",
      "e\n",
      "l\n",
      "Hello World\n",
      "l\n",
      "d\n"
     ]
    }
   ],
   "source": [
    "# Assign s as a string\n",
    "s = 'Hello World'\n",
    "\n",
    "print(s[0])\n",
    "print(s[1])\n",
    "print(s[2])\n",
    "print(s)\n",
    "print(s[-2])\n",
    "print(s[-1])"
   ]
  },
  {
   "cell_type": "code",
   "execution_count": 3,
   "id": "fe19da37-d0f3-4749-ba62-8e39f1ef626d",
   "metadata": {},
   "outputs": [
    {
     "name": "stdout",
     "output_type": "stream",
     "text": [
      "Hello World\n",
      "Hello_Hello_Hello_Hello_Hello_\n",
      "----------\n"
     ]
    }
   ],
   "source": [
    "############### String Concatenation and Repetition ##################\n",
    "# String Concatenation -- Combining two strings (addition)\n",
    "\n",
    "s1 = 'Hello'\n",
    "s2 = \"World\"\n",
    "print(s1 + \" \" + s2)\n",
    "\n",
    "# String Repetition is a process of repeating a same string multiple times (multiplication)\n",
    "# String repetition \n",
    "\n",
    "print(\"Hello_\" * 5)\n",
    "print(\"-\" * 10)"
   ]
  },
  {
   "cell_type": "code",
   "execution_count": 9,
   "id": "5dc44d39-7532-42ce-b0b6-fd88fa9b7722",
   "metadata": {},
   "outputs": [
    {
     "name": "stdout",
     "output_type": "stream",
     "text": [
      "N\n",
      "N\n",
      "BANA\n",
      "BANA\n",
      "BANAN\n",
      "BANAN\n",
      "BANANA\n",
      "BANANA\n",
      "True\n",
      "False\n"
     ]
    }
   ],
   "source": [
    "############### String Indexing and Slicing ##################\n",
    "# String Indexing -- is used to to select the letter at a particular index/position.\n",
    "\n",
    "fruit = 'BANANA'\n",
    "Letter = fruit[4] # This is indexing\n",
    "print(Letter)\n",
    "print(fruit[4])\n",
    "\n",
    "# String slicing -- is a process to select a subset of an entire string\n",
    "fruit = 'BANANA' # [B-->0,A-->1,N-->2,A-->3,N-->4,A-->5]\n",
    "       #  012345 --> No of charector is 6 \n",
    "       # Hence which using slicing operation please consider charectors but start with index which means [0--> start with index value:X--> value of last charector\n",
    "       #  or desired chaector]\n",
    "\n",
    "Letter = fruit[0:4]\n",
    "Letter1 = fruit[0:5] # Slicing is done based on index value\n",
    "Letter2 = fruit[0:6] # This case if you want to print whole value need to max number of charector which 6\n",
    "print(Letter)\n",
    "print(fruit[0:4])\n",
    "\n",
    "print(Letter1)\n",
    "print(fruit[0:5])\n",
    "\n",
    "print(Letter2)\n",
    "print(fruit[0:6]) # This is correct way of slicing if you need whole value."
   ]
  },
  {
   "cell_type": "code",
   "execution_count": 25,
   "id": "06d4baf8-389b-48e5-bcb3-eac7b7ee3f4c",
   "metadata": {},
   "outputs": [
    {
     "name": "stdout",
     "output_type": "stream",
     "text": [
      "Print the text in upper case HELLO WORLD\n",
      "Print the text in lower case hello world\n",
      "False\n",
      "False\n",
      "length of the text 11\n",
      "Occurence L in the text 2\n",
      "Replace the World with Tejas in the text --> Hello Tejas\n",
      "Replace the World with Tejas in the text --> Hello Tejas\n",
      "If string starts with string mentioned(Hello) in the above function it will print--> True\n",
      "If string does not starts with string mentioned(bye) in the above function it will print---> False\n",
      "Removes the space in the right side -->  Hello World\n",
      "Removes the space in the left side --> Hello World \n",
      "Removes the space in the string --> Hello World\n"
     ]
    }
   ],
   "source": [
    "# String built in functions\n",
    "\n",
    "# 1. upper() \n",
    "s = \"Hello World\"\n",
    "print(\"Print the text in upper case\",s.upper()) ## Convert all the element of the string to Upper case..!!\n",
    "\n",
    "# 2. lower() \n",
    "s = \"Hello World\"\n",
    "print(\"Print the text in lower case\",s.lower())  ## Convert all the element of the string to Lower case..!!\n",
    "\n",
    "# 3. Using string as logical operator \n",
    "print(\"A\" in s)\n",
    "print(\"S\" in s)\n",
    "\n",
    "# 4. len() \n",
    "s = \"Hello World\"\n",
    "print(\"length of the text\",len(s))  ## To find out the length of the string..!!\n",
    "\n",
    "# 5. Searching a string \n",
    "s = \"Hello World\"\n",
    "print(\"Occurence L in the text\",s.find('l'))  ## This function will tell the first occurence of the charector and provides the index of the charector..!!\n",
    "\n",
    "a = \"Hello World\"\n",
    "i = a.replace('World','Tejas')\n",
    "print(\"Replace the World with Tejas in the text -->\",i) # This function finds and replace the string\n",
    "print(\"Replace the World with Tejas in the text -->\",a.replace('World','Tejas'))\n",
    "\n",
    "a = \"Hello World\"\n",
    "i = a.startswith('Hello')\n",
    "p = a.startswith('Bye')\n",
    "print('If string starts with string mentioned(Hello) in the above function it will print-->',i)\n",
    "print('If string does not starts with string mentioned(bye) in the above function it will print--->',p)\n",
    "\n",
    "# 6. Whitespace in strings\n",
    "x = \" Hello World \"\n",
    "print(\"Removes the space in the right side -->\",x.rstrip())\n",
    "print(\"Removes the space in the left side -->\",x.lstrip())\n",
    "print(\"Removes the space in the string -->\",x.strip())"
   ]
  },
  {
   "cell_type": "code",
   "execution_count": null,
   "id": "15c95c09-1f15-45ad-bffa-a602f7890fe1",
   "metadata": {},
   "outputs": [],
   "source": []
  }
 ],
 "metadata": {
  "kernelspec": {
   "display_name": "Python 3 (ipykernel)",
   "language": "python",
   "name": "python3"
  },
  "language_info": {
   "codemirror_mode": {
    "name": "ipython",
    "version": 3
   },
   "file_extension": ".py",
   "mimetype": "text/x-python",
   "name": "python",
   "nbconvert_exporter": "python",
   "pygments_lexer": "ipython3",
   "version": "3.12.8"
  }
 },
 "nbformat": 4,
 "nbformat_minor": 5
}
