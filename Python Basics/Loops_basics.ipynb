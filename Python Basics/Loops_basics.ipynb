{
 "cells": [
  {
   "cell_type": "code",
   "execution_count": null,
   "id": "58d53d6e-daf6-48b9-970c-431e92bc0941",
   "metadata": {},
   "outputs": [],
   "source": [
    "# loop #"
   ]
  },
  {
   "cell_type": "raw",
   "id": "518698e7-9b73-4eb5-ae9d-cc92144e8028",
   "metadata": {},
   "source": [
    "# while \n",
    "The general format of a while loop is:\n",
    "\n",
    "while test:\n",
    "    code statement\n",
    "else:\n",
    "    final code statements\n",
    "    "
   ]
  },
  {
   "cell_type": "code",
   "execution_count": 16,
   "id": "6895e778-c10d-429b-948d-969578b9dac7",
   "metadata": {},
   "outputs": [
    {
     "name": "stdout",
     "output_type": "stream",
     "text": [
      "x is currently:  11  x is still less than 10, adding 1 to x\n"
     ]
    }
   ],
   "source": [
    "x = 11\n",
    "\n",
    "while x > 10:\n",
    "    print ('x is currently: ',x,end=' ') #end=' ' to put print below statement on the same line after thsi statement\n",
    "    print (' x is still less than 10, adding 1 to x')\n",
    "    x = x - 1 # this adds 1 to x "
   ]
  },
  {
   "cell_type": "raw",
   "id": "2be4b32e-4fcd-4b07-891d-bd332dbbd142",
   "metadata": {},
   "source": [
    "# Break Concept\n",
    "break --> To come out of loop or go the last of loop\n",
    "continue --> statement ends with current iteration and jumps to the top of the loop and starts next."
   ]
  },
  {
   "cell_type": "code",
   "execution_count": 30,
   "id": "4d0311df-2711-4778-8269-8b2383dc89e3",
   "metadata": {},
   "outputs": [
    {
     "name": "stdout",
     "output_type": "stream",
     "text": [
      "Processing 1\n",
      "Processing 2\n",
      "Processing 3\n",
      "Processing 4\n",
      "Encountered 5! Skipping this iteration using continue.\n",
      "Processing 6\n",
      "Processing 7\n",
      "Encountered 8! Breaking the loop.\n"
     ]
    }
   ],
   "source": [
    "# To find x in users if it matches we come out other wise continue to search # Need to check this again\n",
    "users = list(range(20))\n",
    "\n",
    "\n",
    "x = 0\n",
    "\n",
    "while x < 10:\n",
    "    x += 1  # Increment x at the beginning to avoid infinite loop\n",
    "\n",
    "    if x == 5:\n",
    "        print(\"Encountered 5! Skipping this iteration using continue.\")\n",
    "        continue  # Skips the rest of the code and moves to the next iteration\n",
    "\n",
    "    if x == 8:\n",
    "        print(\"Encountered 8! Breaking the loop.\")\n",
    "        break  # Exits the loop completely when x is 8\n",
    "\n",
    "    print(f\"Processing {x}\")  # Prints x unless it's skipped by continue"
   ]
  },
  {
   "cell_type": "raw",
   "id": "1a53b81f-08ae-4caa-92f3-83653abdcbaf",
   "metadata": {},
   "source": [
    "# For loop \n",
    "Here's the general format for a for loop in Python:\n",
    "\n",
    "for item in object:\n",
    "    statements to do stuff"
   ]
  },
  {
   "cell_type": "code",
   "execution_count": 3,
   "id": "3feaf83d-7df8-46b9-90f1-b1030b65c5b3",
   "metadata": {},
   "outputs": [],
   "source": [
    "user = list(range(10))"
   ]
  },
  {
   "cell_type": "code",
   "execution_count": 4,
   "id": "bfeab5c2-e0be-4ccd-a3b9-8889205c7b50",
   "metadata": {},
   "outputs": [
    {
     "name": "stdout",
     "output_type": "stream",
     "text": [
      "[0, 1, 2, 3, 4, 5, 6, 7, 8, 9]\n"
     ]
    }
   ],
   "source": [
    "print(user)"
   ]
  },
  {
   "cell_type": "code",
   "execution_count": 5,
   "id": "8ae536ee-c726-459c-89af-9ed6e7374f10",
   "metadata": {},
   "outputs": [
    {
     "name": "stdout",
     "output_type": "stream",
     "text": [
      "0\n",
      "1\n",
      "2\n",
      "3\n",
      "4\n",
      "5\n",
      "6\n",
      "7\n",
      "8\n",
      "9\n"
     ]
    }
   ],
   "source": [
    "for i in user:\n",
    "    print(i)"
   ]
  },
  {
   "cell_type": "code",
   "execution_count": 15,
   "id": "c8047526-0c4c-4af4-af28-068a1a0d3612",
   "metadata": {},
   "outputs": [
    {
     "name": "stdout",
     "output_type": "stream",
     "text": [
      "List of odd values--> [1, 3, 5, 7, 9]\n",
      "Number of odd values is  5\n",
      "List of even values--> [0, 2, 4, 6, 8]\n",
      "Number of even values is  5\n"
     ]
    }
   ],
   "source": [
    "o=0\n",
    "o_list=list()\n",
    "e=0\n",
    "e_list=list()\n",
    "for i in user:\n",
    "    if(i%2==0):\n",
    "        e=e+1\n",
    "        e_list.append(i)\n",
    "    else:\n",
    "        o=o+1\n",
    "        o_list.append(i)\n",
    "print (\"List of odd values-->\" ,o_list)\n",
    "print(\"Number of odd values is \",o)\n",
    "print (\"List of even values-->\", e_list)\n",
    "print(\"Number of even values is \",e)   \n"
   ]
  },
  {
   "cell_type": "raw",
   "id": "f32cd0ca-bb42-45ef-bacd-24fa14a06a2e",
   "metadata": {},
   "source": [
    "List comprehension"
   ]
  },
  {
   "cell_type": "code",
   "execution_count": 33,
   "id": "a9bd5ff7-291d-4ad1-ab54-09eee1715ace",
   "metadata": {},
   "outputs": [
    {
     "name": "stdout",
     "output_type": "stream",
     "text": [
      "['Ravi', 'Pooja', 'Vijay', 'Kiran']\n"
     ]
    }
   ],
   "source": [
    "names = [\"Ravi\", \"Pooja\", \"Vijay\", \"Kiran\"]\n",
    "\n",
    "print(names)"
   ]
  },
  {
   "cell_type": "raw",
   "id": "c0ffe27e-d66f-46ab-ad33-dfef6fa7a9c2",
   "metadata": {},
   "source": [
    "new_list = [   variable      for item in iterable        if condition     ]\n",
    "variable → The value to be included in the new list.\n",
    "\n",
    "item → The variable that iterates over each element in the iterable.\n",
    "\n",
    "iterable → The original list (or other iterable) from which elements are taken.\n",
    "\n",
    "if condition (optional) → A filtering condition that selects only certain elements."
   ]
  },
  {
   "cell_type": "code",
   "execution_count": 37,
   "id": "614422eb-49cd-485a-86a8-b72a2cb48e0f",
   "metadata": {},
   "outputs": [
    {
     "name": "stdout",
     "output_type": "stream",
     "text": [
      "['Hello Ravi', 'Hello Pooja', 'Hello Vijay', 'Hello Kiran']\n"
     ]
    }
   ],
   "source": [
    "# Loop method\n",
    "new_list=list()\n",
    "for i in names:\n",
    "    new_list.append('Hello'+' ' + i)\n",
    "\n",
    "print(new_list)"
   ]
  },
  {
   "cell_type": "code",
   "execution_count": 39,
   "id": "1ccf3b42-cc97-4845-98e8-a744e0800629",
   "metadata": {},
   "outputs": [
    {
     "data": {
      "text/plain": [
       "['Hello Ravi', 'Hello Pooja', 'Hello Vijay', 'Hello Kiran']"
      ]
     },
     "execution_count": 39,
     "metadata": {},
     "output_type": "execute_result"
    }
   ],
   "source": [
    "# List comphrension method\n",
    "names = [\"Ravi\", \"Pooja\", \"Vijay\", \"Kiran\"]\n",
    "names = ['Hello'+' ' + name for name in names]\n",
    "names"
   ]
  },
  {
   "cell_type": "code",
   "execution_count": 41,
   "id": "30410055-0f29-471a-a04d-9970c45291cf",
   "metadata": {},
   "outputs": [
    {
     "name": "stdout",
     "output_type": "stream",
     "text": [
      "[32, 10, 54, 32]\n",
      "[55, 87, 99]\n"
     ]
    }
   ],
   "source": [
    "# Loop method\n",
    "numbers = [55, 32, 87, 99, 10, 54, 32]\n",
    "even= list()\n",
    "odd=list()\n",
    "for num in numbers:\n",
    "    if (num%2)==0:\n",
    "        even.append(num)\n",
    "    else:\n",
    "        odd.append(num)\n",
    "print(even)\n",
    "print(odd)\n",
    "       \n"
   ]
  },
  {
   "cell_type": "code",
   "execution_count": 46,
   "id": "043e86f7-5716-43b4-9568-2bef30fac6ca",
   "metadata": {},
   "outputs": [
    {
     "data": {
      "text/plain": [
       "[32, 10, 54, 32]"
      ]
     },
     "execution_count": 46,
     "metadata": {},
     "output_type": "execute_result"
    }
   ],
   "source": [
    "# List comphrension method\n",
    "numbers = [55, 32, 87, 99, 10, 54, 32]\n",
    "even = [num for num in numbers if (num%2==0)]\n",
    "even"
   ]
  },
  {
   "cell_type": "code",
   "execution_count": 49,
   "id": "f1d2131b-d2df-4c70-aba3-f4ac60594452",
   "metadata": {},
   "outputs": [
    {
     "name": "stdout",
     "output_type": "stream",
     "text": [
      "[55, 87, 99]\n"
     ]
    },
    {
     "data": {
      "text/plain": [
       "[(55, 3025), (87, 7569), (99, 9801)]"
      ]
     },
     "execution_count": 49,
     "metadata": {},
     "output_type": "execute_result"
    }
   ],
   "source": [
    "odd = [num for num in numbers if (num%2!=0)]\n",
    "print(odd)\n",
    "odd1 = [(num,num*num) for num in numbers if (num%2!=0)]\n",
    "odd1"
   ]
  },
  {
   "cell_type": "raw",
   "id": "a0d664f5-f273-4357-b514-d0f4ba767a1c",
   "metadata": {},
   "source": [
    "Exception Handling\n",
    "\n",
    "The basic terminology and syntax used to handle errors in Python is the try and except statements. The code which can cause an exception to occue is put in the try block and the handling of the exception is the implemented in the except block of code. \n",
    "\n"
   ]
  },
  {
   "cell_type": "code",
   "execution_count": 50,
   "id": "69eb72b8-da1e-4ab4-be27-84d9a89be038",
   "metadata": {},
   "outputs": [
    {
     "name": "stdout",
     "output_type": "stream",
     "text": [
      "hello world\n",
      "exception occured\n",
      "bye world\n"
     ]
    }
   ],
   "source": [
    "print('hello world')\n",
    "\n",
    "try:\n",
    "    1 / 0\n",
    "except ZeroDivisionError:\n",
    "    print('exception occured')\n",
    "\n",
    "print('bye world')"
   ]
  }
 ],
 "metadata": {
  "kernelspec": {
   "display_name": "Python 3 (ipykernel)",
   "language": "python",
   "name": "python3"
  },
  "language_info": {
   "codemirror_mode": {
    "name": "ipython",
    "version": 3
   },
   "file_extension": ".py",
   "mimetype": "text/x-python",
   "name": "python",
   "nbconvert_exporter": "python",
   "pygments_lexer": "ipython3",
   "version": "3.12.8"
  }
 },
 "nbformat": 4,
 "nbformat_minor": 5
}
