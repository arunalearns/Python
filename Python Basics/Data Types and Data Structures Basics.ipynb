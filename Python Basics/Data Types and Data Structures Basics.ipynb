{
 "cells": [
  {
   "cell_type": "code",
   "execution_count": null,
   "id": "3713febb-99da-4a7a-b22e-714062098249",
   "metadata": {},
   "outputs": [],
   "source": [
    "# Data Types & Data Structures"
   ]
  },
  {
   "cell_type": "code",
   "execution_count": 2,
   "id": "058b29ac-1d76-4650-836f-dd4c578df670",
   "metadata": {},
   "outputs": [],
   "source": [
    "#Everything in Python is an \"object\", including integers/floats\n",
    "#Most common and important types (classes)\n",
    "   #\"Single value\": None, int, float, bool, str, complex\n",
    "   #\"Multiple values\": list, tuple, set, dict\n",
    "\n",
    "#Single/Multiple isn't a real distinction, this is for explanation\n",
    "#There are many others, but these are most frequently used"
   ]
  },
  {
   "cell_type": "code",
   "execution_count": 3,
   "id": "7e1a3e79-d04e-4157-a59e-5e6d64107074",
   "metadata": {},
   "outputs": [
    {
     "name": "stdout",
     "output_type": "stream",
     "text": [
      "<class 'int'>\n",
      "<class 'float'>\n",
      "<class 'str'>\n",
      "<class 'bool'>\n"
     ]
    }
   ],
   "source": [
    "#Identifying Data Types\n",
    "\n",
    "a = 42\n",
    "b = 32.30\n",
    "c = \"Hello\"\n",
    "d = True\n",
    "print(type(a))#gets type of a\n",
    "print(type(b))#gets type of b\n",
    "print(type(c))\n",
    "print(type(d))\n"
   ]
  },
  {
   "cell_type": "code",
   "execution_count": null,
   "id": "a414b048-b2eb-4756-9eb6-9e20bd1ac8f9",
   "metadata": {},
   "outputs": [],
   "source": []
  }
 ],
 "metadata": {
  "kernelspec": {
   "display_name": "Python 3 (ipykernel)",
   "language": "python",
   "name": "python3"
  },
  "language_info": {
   "codemirror_mode": {
    "name": "ipython",
    "version": 3
   },
   "file_extension": ".py",
   "mimetype": "text/x-python",
   "name": "python",
   "nbconvert_exporter": "python",
   "pygments_lexer": "ipython3",
   "version": "3.12.8"
  }
 },
 "nbformat": 4,
 "nbformat_minor": 5
}
