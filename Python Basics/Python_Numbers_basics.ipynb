{
 "cells": [
  {
   "cell_type": "code",
   "execution_count": null,
   "id": "a2199ad2-8a31-4f9d-bd3a-0569d33db6ae",
   "metadata": {},
   "outputs": [],
   "source": [
    "# Basic Arithmetic"
   ]
  },
  {
   "cell_type": "code",
   "execution_count": 3,
   "id": "3c7f88c7-71b5-44ef-a8fb-ed88fea5730b",
   "metadata": {},
   "outputs": [
    {
     "name": "stdout",
     "output_type": "stream",
     "text": [
      "3\n",
      "1\n",
      "4\n",
      "1.5\n"
     ]
    }
   ],
   "source": [
    "\n",
    "# Addition\n",
    "print(2+1)\n",
    "\n",
    "# Subtraction\n",
    "print(2-1)\n",
    "\n",
    "# Multiplication\n",
    "print(2*2)\n",
    "\n",
    "# Division\n",
    "print(3/2)"
   ]
  },
  {
   "cell_type": "code",
   "execution_count": 4,
   "id": "ebdd3739-3530-4ee3-a6b6-884f49c65895",
   "metadata": {},
   "outputs": [
    {
     "data": {
      "text/plain": [
       "16"
      ]
     },
     "execution_count": 4,
     "metadata": {},
     "output_type": "execute_result"
    }
   ],
   "source": [
    "# Powers\n",
    "2**4"
   ]
  },
  {
   "cell_type": "code",
   "execution_count": 5,
   "id": "3745d7e6-ae33-49a7-8a00-9e98b83c03cd",
   "metadata": {},
   "outputs": [
    {
     "data": {
      "text/plain": [
       "105"
      ]
     },
     "execution_count": 5,
     "metadata": {},
     "output_type": "execute_result"
    }
   ],
   "source": [
    "# Order of Operations followed in Python\n",
    "2 + 10 * 10 + 3"
   ]
  },
  {
   "cell_type": "code",
   "execution_count": 6,
   "id": "f16bd381-9c65-4649-af86-799eeaaf58d5",
   "metadata": {},
   "outputs": [
    {
     "data": {
      "text/plain": [
       "156"
      ]
     },
     "execution_count": 6,
     "metadata": {},
     "output_type": "execute_result"
    }
   ],
   "source": [
    "# Can use parenthesis to specify orders\n",
    "(2+10) * (10+3)"
   ]
  },
  {
   "cell_type": "code",
   "execution_count": 12,
   "id": "4748eba6-432a-4a61-8073-3598434a681f",
   "metadata": {},
   "outputs": [
    {
     "name": "stdout",
     "output_type": "stream",
     "text": [
      "10\n",
      "20\n"
     ]
    }
   ],
   "source": [
    "# Variable Assignments\n",
    "#The names you use when creating these labels need to follow a few rules:\n",
    "\n",
    "#1. Names can not start with a number.\n",
    "#2. There can be no spaces in the name, use _ instead.\n",
    "#3. Can't use any of these symbols :'\",<>/?|\\()!@#$%^&*~-+\n",
    "\n",
    "aruna_1 = 5 # This will work\n",
    "print(aruna_1+aruna_1)\n",
    "# aruna$1 = 10\n",
    "# print('This will not work',aruna$1) # This will not work Got below error \n",
    "   #SyntaxError: invalid syntax\n",
    "\n",
    "# Reassignment\n",
    "aruna_1 = 10 \n",
    "print(aruna_1+aruna_1)"
   ]
  },
  {
   "cell_type": "code",
   "execution_count": null,
   "id": "256691a9-f1e0-4d5d-a09e-d8c6b6e48a69",
   "metadata": {},
   "outputs": [],
   "source": []
  }
 ],
 "metadata": {
  "kernelspec": {
   "display_name": "Python 3 (ipykernel)",
   "language": "python",
   "name": "python3"
  },
  "language_info": {
   "codemirror_mode": {
    "name": "ipython",
    "version": 3
   },
   "file_extension": ".py",
   "mimetype": "text/x-python",
   "name": "python",
   "nbconvert_exporter": "python",
   "pygments_lexer": "ipython3",
   "version": "3.12.8"
  }
 },
 "nbformat": 4,
 "nbformat_minor": 5
}
