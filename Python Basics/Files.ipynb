{
 "cells": [
  {
   "cell_type": "raw",
   "id": "10eaf829-4f28-4965-9ee0-4ec18bda5556",
   "metadata": {},
   "source": [
    "Working with Text Files "
   ]
  },
  {
   "cell_type": "code",
   "execution_count": 1,
   "id": "61d7bc44-d491-43dc-ac62-d027e104a71d",
   "metadata": {},
   "outputs": [],
   "source": [
    "with open(\"myfile.txt\",'w') as f: ### w is used for write \n",
    "    f.write(\"This is my file \\n\")\n",
    "    f.write(\"Second line \\n\")"
   ]
  },
  {
   "cell_type": "code",
   "execution_count": 2,
   "id": "5924dec3-92c7-4e3f-aa47-1b92d0bbc3e8",
   "metadata": {},
   "outputs": [],
   "source": [
    "with open(\"myfile.txt\",'a') as f: ### a is used for append\n",
    "    f.write(\"This is my file \\n\")\n",
    "    f.write(\"Second line \\n\")"
   ]
  },
  {
   "cell_type": "code",
   "execution_count": 8,
   "id": "27c3b894-96c3-4cd4-a548-197ca54d8d49",
   "metadata": {},
   "outputs": [
    {
     "name": "stdout",
     "output_type": "stream",
     "text": [
      "This is my file \n",
      "\n",
      "Second line \n",
      "\n",
      "This is my file \n",
      "\n",
      "Second line \n",
      "\n"
     ]
    }
   ],
   "source": [
    "# To read a file , we can use a open function\n",
    "\n",
    "fhand=open(\"myfile.txt\")\n",
    "for i in fhand:\n",
    "    print(i)"
   ]
  },
  {
   "cell_type": "code",
   "execution_count": 13,
   "id": "ef2d4b70-196c-4213-b368-4c781ceff1f5",
   "metadata": {},
   "outputs": [
    {
     "name": "stdout",
     "output_type": "stream",
     "text": [
      "This is my file \n",
      " 1\n",
      "Second line \n",
      " 2\n",
      "This is my file \n",
      " 3\n",
      "Second line \n",
      " 4\n",
      "Total lines : 4\n"
     ]
    }
   ],
   "source": [
    "# To count the lines \n",
    "fhand=open(\"myfile.txt\")\n",
    "x = 0 \n",
    "for i in fhand:\n",
    "    x+=1\n",
    "    print(i,x)\n",
    "print('Total lines :' ,x)"
   ]
  },
  {
   "cell_type": "code",
   "execution_count": 25,
   "id": "44f677c8-fa7f-4f0a-beb2-6c46ccb89b45",
   "metadata": {},
   "outputs": [
    {
     "name": "stdout",
     "output_type": "stream",
     "text": [
      "Second line \n",
      "\n",
      "Second line \n",
      "\n"
     ]
    }
   ],
   "source": [
    "# Searching for  word\n",
    "fhand=open(\"myfile.txt\")\n",
    "for i in fhand:\n",
    "    if i.startswith(\"Second\"):\n",
    "         print(i)"
   ]
  },
  {
   "cell_type": "code",
   "execution_count": 26,
   "id": "00fceed6-2789-424e-a214-8c009a86fe08",
   "metadata": {},
   "outputs": [
    {
     "name": "stdout",
     "output_type": "stream",
     "text": [
      "Second line \n",
      "\n",
      "Second line \n",
      "\n"
     ]
    }
   ],
   "source": [
    "# Searching for s word\n",
    "fhand=open(\"myfile.txt\")\n",
    "for i in fhand:\n",
    "    if not i.startswith(\"This\"):\n",
    "         print(i)"
   ]
  },
  {
   "cell_type": "code",
   "execution_count": 41,
   "id": "5244c577-e3f3-4ec9-b6a2-0634ce89a442",
   "metadata": {},
   "outputs": [
    {
     "name": "stdout",
     "output_type": "stream",
     "text": [
      "['This', 'is', 'my', 'file', 'Second', 'line', 'This', 'is', 'my', 'file', 'Second', 'line']\n",
      "12\n"
     ]
    }
   ],
   "source": [
    "# To count the lines \n",
    "fhand=open(\"myfile.txt\")\n",
    "x = 0\n",
    "h = list()\n",
    "for i in fhand:\n",
    "    x=i.split()\n",
    "    h.extend(x)\n",
    "print(h)\n",
    "print(len(h))"
   ]
  }
 ],
 "metadata": {
  "kernelspec": {
   "display_name": "Python 3 (ipykernel)",
   "language": "python",
   "name": "python3"
  },
  "language_info": {
   "codemirror_mode": {
    "name": "ipython",
    "version": 3
   },
   "file_extension": ".py",
   "mimetype": "text/x-python",
   "name": "python",
   "nbconvert_exporter": "python",
   "pygments_lexer": "ipython3",
   "version": "3.12.8"
  }
 },
 "nbformat": 4,
 "nbformat_minor": 5
}
