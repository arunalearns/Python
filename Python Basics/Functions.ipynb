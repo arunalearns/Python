{
 "cells": [
  {
   "cell_type": "raw",
   "id": "f8f3a0b0-85fc-443b-984d-7baa069045c6",
   "metadata": {},
   "source": [
    "On a more fundamental level, functions allow us to not have to repeatedly write the same code again and again."
   ]
  },
  {
   "cell_type": "raw",
   "id": "a9ee5b5f-5d5d-4148-8500-3425100adca4",
   "metadata": {},
   "source": [
    "def name_of_function(arg1,arg2):\n",
    "    '''\n",
    "    This is where the function's Document String (doc-string) goes\n",
    "    '''\n",
    "    # Do stuff here\n",
    "    #return desired result"
   ]
  },
  {
   "cell_type": "code",
   "execution_count": 1,
   "id": "6ad37d53-eb9b-468e-9e20-79e24625193d",
   "metadata": {},
   "outputs": [
    {
     "name": "stdout",
     "output_type": "stream",
     "text": [
      "Aruna\n"
     ]
    }
   ],
   "source": [
    "def say_my_name():\n",
    "    print(\"Aruna\")\n",
    "say_my_name()"
   ]
  },
  {
   "cell_type": "raw",
   "id": "f622b4c3-2672-4046-9b1d-76bd13fe2a5d",
   "metadata": {},
   "source": [
    "Function Arguments\n",
    "\n",
    "Parameters may or may not have default values (in the example below, 'argn' has default value 3)\n",
    "A function parameter can be passed either by position or by key/name\n",
    "A function can accept a variable number of positional arguments (*args)\n",
    "A function can accept a variable number of keyword arguments (**kwargs)\n",
    "Function parameters are passed by object reference"
   ]
  },
  {
   "cell_type": "code",
   "execution_count": 6,
   "id": "e97086fb-0811-48cd-a9ee-1b71dcb98492",
   "metadata": {},
   "outputs": [
    {
     "data": {
      "text/plain": [
       "'ArunaArunaAruna'"
      ]
     },
     "execution_count": 6,
     "metadata": {},
     "output_type": "execute_result"
    }
   ],
   "source": [
    "def get_my_name(name):\n",
    "    return name*3\n",
    "get_my_name('Aruna')"
   ]
  },
  {
   "cell_type": "code",
   "execution_count": 7,
   "id": "375a2b5e-3b53-4312-8a4c-47fbceb38eed",
   "metadata": {},
   "outputs": [
    {
     "data": {
      "text/plain": [
       "9"
      ]
     },
     "execution_count": 7,
     "metadata": {},
     "output_type": "execute_result"
    }
   ],
   "source": [
    "def multiplicat(num): ## position value argument\n",
    "    return num*num\n",
    "multiplicat(3)"
   ]
  },
  {
   "cell_type": "code",
   "execution_count": 8,
   "id": "f22511af-618e-4554-a495-b338fa72a852",
   "metadata": {},
   "outputs": [
    {
     "data": {
      "text/plain": [
       "9"
      ]
     },
     "execution_count": 8,
     "metadata": {},
     "output_type": "execute_result"
    }
   ],
   "source": [
    "def multiplicat(num=1):  ## default value argument\n",
    "    return num*num\n",
    "multiplicat(3)"
   ]
  },
  {
   "cell_type": "code",
   "execution_count": 9,
   "id": "06c93999-7c9f-444e-8ca2-f68615c92f5b",
   "metadata": {},
   "outputs": [
    {
     "data": {
      "text/plain": [
       "1"
      ]
     },
     "execution_count": 9,
     "metadata": {},
     "output_type": "execute_result"
    }
   ],
   "source": [
    "multiplicat()"
   ]
  },
  {
   "cell_type": "code",
   "execution_count": 14,
   "id": "1a83a9fd-6c72-42e7-96cc-ae554715fa9b",
   "metadata": {},
   "outputs": [
    {
     "name": "stdout",
     "output_type": "stream",
     "text": [
      "name\n",
      "age\n",
      "hieght\n"
     ]
    }
   ],
   "source": [
    "def db_cols(*args):\n",
    "    for arg in args:\n",
    "        print(arg)\n",
    "\n",
    "\n",
    "db_cols('name','age','hieght')"
   ]
  },
  {
   "cell_type": "code",
   "execution_count": 16,
   "id": "f170ff98-47d8-4cc9-8339-ba1e9e701b40",
   "metadata": {},
   "outputs": [
    {
     "name": "stdout",
     "output_type": "stream",
     "text": [
      "('name', 'Aruna')\n",
      "('age', '29')\n"
     ]
    }
   ],
   "source": [
    "def database_columns(**kwargs):\n",
    "    for keys in kwargs.items():\n",
    "        print(keys)\n",
    "\n",
    "database_columns(name=\"Aruna\", age=\"29\")"
   ]
  },
  {
   "cell_type": "raw",
   "id": "4d7f3aa4-f254-4b83-8c2f-81afbdc399c5",
   "metadata": {},
   "source": [
    "LAMDA Function"
   ]
  },
  {
   "cell_type": "code",
   "execution_count": null,
   "id": "758c61e4-3532-4fca-8fa3-9dbebe7fe188",
   "metadata": {},
   "outputs": [],
   "source": [
    "# Traditional way of writing "
   ]
  },
  {
   "cell_type": "code",
   "execution_count": 17,
   "id": "c06749d3-28ea-45dd-958b-8faa3d9953ed",
   "metadata": {},
   "outputs": [
    {
     "data": {
      "text/plain": [
       "4"
      ]
     },
     "execution_count": 17,
     "metadata": {},
     "output_type": "execute_result"
    }
   ],
   "source": [
    "def square(num):\n",
    "    result = num**2\n",
    "    return result\n",
    "square(2)"
   ]
  },
  {
   "cell_type": "code",
   "execution_count": 18,
   "id": "98c617ba-314e-42ff-bd31-2d4d1e3e7510",
   "metadata": {},
   "outputs": [
    {
     "data": {
      "text/plain": [
       "4"
      ]
     },
     "execution_count": 18,
     "metadata": {},
     "output_type": "execute_result"
    }
   ],
   "source": [
    "square = lambda num: num**2\n",
    "\n",
    "square(2)"
   ]
  },
  {
   "cell_type": "code",
   "execution_count": 20,
   "id": "639a51c7-f679-4020-950d-fd869f8983ed",
   "metadata": {},
   "outputs": [
    {
     "data": {
      "text/plain": [
       "100"
      ]
     },
     "execution_count": 20,
     "metadata": {},
     "output_type": "execute_result"
    }
   ],
   "source": [
    "abc = lambda num: num*num\n",
    "\n",
    "abc(10)"
   ]
  },
  {
   "cell_type": "code",
   "execution_count": null,
   "id": "dfb03dae-b520-4b13-96c8-40c53f56c7c8",
   "metadata": {},
   "outputs": [],
   "source": []
  }
 ],
 "metadata": {
  "kernelspec": {
   "display_name": "Python 3 (ipykernel)",
   "language": "python",
   "name": "python3"
  },
  "language_info": {
   "codemirror_mode": {
    "name": "ipython",
    "version": 3
   },
   "file_extension": ".py",
   "mimetype": "text/x-python",
   "name": "python",
   "nbconvert_exporter": "python",
   "pygments_lexer": "ipython3",
   "version": "3.12.8"
  }
 },
 "nbformat": 4,
 "nbformat_minor": 5
}
