{
 "cells": [
  {
   "cell_type": "code",
   "execution_count": null,
   "id": "cd933ca6-2b15-4c80-86eb-4b9b1b536dfc",
   "metadata": {},
   "outputs": [],
   "source": [
    "# Data Structure in Python --> LIST"
   ]
  },
  {
   "cell_type": "code",
   "execution_count": null,
   "id": "20629725-a4a8-45a3-91ba-350effa00d6e",
   "metadata": {},
   "outputs": [],
   "source": [
    "#  LIST --> kind of collection to have multiples values\n",
    "# It is basically a collection of string inside [].\n",
    "# Strings are immutable but Lists are mutable"
   ]
  },
  {
   "cell_type": "code",
   "execution_count": 39,
   "id": "23ad940b-b6e7-49da-9ba5-4fe059efb1d3",
   "metadata": {},
   "outputs": [
    {
     "name": "stdout",
     "output_type": "stream",
     "text": [
      "[1, 2, 3]\n",
      "3\n",
      "[1, 2, 3, 1, 8, 3]\n"
     ]
    }
   ],
   "source": [
    "# Assign a list to an variable named my_list\n",
    "my_list = [1,2,3]\n",
    "print(my_list)\n",
    "print(my_list[2])\n",
    "\n",
    "# concat two list\n",
    "my_list = [1,2,3]\n",
    "my_list2 = [1,8,3]\n",
    "\n",
    "my_list3 = my_list + my_list2\n",
    "print(my_list3)"
   ]
  },
  {
   "cell_type": "code",
   "execution_count": 28,
   "id": "8c21f84a-618c-4995-81e0-9ddc237a9248",
   "metadata": {},
   "outputs": [
    {
     "data": {
      "text/plain": [
       "6"
      ]
     },
     "execution_count": 28,
     "metadata": {},
     "output_type": "execute_result"
    }
   ],
   "source": [
    "len(my_list)\n",
    "max(my_list)\n",
    "min(my_list)\n",
    "sum(my_list)"
   ]
  },
  {
   "cell_type": "code",
   "execution_count": 38,
   "id": "39eab700-4df6-4cda-93f2-afea887d9957",
   "metadata": {},
   "outputs": [
    {
     "name": "stdout",
     "output_type": "stream",
     "text": [
      "[1, 2, 3, [4, 5, 6]]\n",
      "[1, 2, 3, 4, 5, 6]\n",
      "[6, 1, 2, 3]\n",
      "[1, 2, 3]\n",
      "[3, 2, 1]\n",
      "3\n",
      "1\n",
      "6\n",
      "['4', '5', '6']\n",
      "['4 ', '5', ' 6 ', '7', '8']\n"
     ]
    }
   ],
   "source": [
    "# List built in functions --> called LIST METHODS\n",
    "\n",
    "# 1.To append a value to the end of the list --> Use append() function\n",
    "my_list = [1,2,3]\n",
    "my_list.append([4,5,6])\n",
    "print(my_list)\n",
    "\n",
    "# 2.To extend a value to the end of the list --> Use extend() function\n",
    "my_list = [1,2,3]\n",
    "my_list.extend([4,5,6])\n",
    "print(my_list)\n",
    "\n",
    "# 3.To insert a value to the list --> Use insert() function\n",
    "my_list = [1,2,3]\n",
    "my_list.insert(0,6)\n",
    "print(my_list)\n",
    "\n",
    "# 4.To sort a value to the list --> Use sort() function\n",
    "my_list = [1,2,3]\n",
    "my_list.sort() # Default is ascending\n",
    "print(my_list)\n",
    "my_list.sort(reverse=True) # This is for descending\n",
    "print(my_list)\n",
    "\n",
    "# 5.To find max value of the list --> Use max() function\n",
    "my_list = [1,2,3]\n",
    "print(max(my_list))\n",
    "\n",
    "# 6.To find min value of the list --> Use min() function\n",
    "my_list = [1,2,3]\n",
    "print(min(my_list))\n",
    "\n",
    "# 7.To find sum value of the list --> Use sum() function\n",
    "my_list = [1,2,3]\n",
    "print(sum(my_list))\n",
    "\n",
    "# 8.To find split value of the list --> Use split() function --> It can also split based on charector\n",
    "my_list = '4 5 6'\n",
    "print(my_list.split())\n",
    "\n",
    "my_list = '4 ;5; 6 ;7;8'\n",
    "i = my_list.split(';')\n",
    "print(i)\n"
   ]
  },
  {
   "cell_type": "code",
   "execution_count": null,
   "id": "f660527a-4f5a-4465-83ca-3192b7421f18",
   "metadata": {},
   "outputs": [],
   "source": [
    "# Slicing is used to access individual elements or a rage of elements in a list.\n",
    "\n",
    "#Python supports \"slicing\" indexable sequences. The syntax for slicing lists is:\n",
    "\n",
    "#list_object[start:end:step] or\n",
    "#list_object[start:end]\n",
    "#start and end are indices (start inclusive, end exclusive). All slicing values are optional."
   ]
  },
  {
   "cell_type": "code",
   "execution_count": 16,
   "id": "805502e4-5c7d-4c5a-a9e7-b1886eb19d59",
   "metadata": {},
   "outputs": [
    {
     "name": "stdout",
     "output_type": "stream",
     "text": [
      "[0, 1, 2, 3, 4, 5, 6, 7, 8, 9]\n"
     ]
    }
   ],
   "source": [
    "#Lets understand the concept of slicing using range()\n",
    "print(list(range(10)))"
   ]
  },
  {
   "cell_type": "code",
   "execution_count": 24,
   "id": "eec5f196-2052-470a-9c00-37738d444907",
   "metadata": {},
   "outputs": [
    {
     "name": "stdout",
     "output_type": "stream",
     "text": [
      "[0, 1, 2, 3, 4, 5, 6, 7, 8, 9]\n",
      "[0, 3, 6, 9]\n",
      "[0, 3, 6, 9]\n",
      "[0, 1, 2]\n",
      "[3, 4, 5, 6, 7, 8, 9]\n"
     ]
    }
   ],
   "source": [
    "# slicing\n",
    "l = list(range(10))\n",
    "print(l)\n",
    "\n",
    "print(l[0:10:3]) # #list_object[start:end:step]\n",
    "\n",
    "print(l[0::3])\n",
    "\n",
    "print(l[:3])\n",
    "\n",
    "print(l[3:])"
   ]
  },
  {
   "cell_type": "code",
   "execution_count": null,
   "id": "1d2acef5-a7b6-4049-b8df-64ece4682b2c",
   "metadata": {},
   "outputs": [],
   "source": []
  }
 ],
 "metadata": {
  "kernelspec": {
   "display_name": "Python 3 (ipykernel)",
   "language": "python",
   "name": "python3"
  },
  "language_info": {
   "codemirror_mode": {
    "name": "ipython",
    "version": 3
   },
   "file_extension": ".py",
   "mimetype": "text/x-python",
   "name": "python",
   "nbconvert_exporter": "python",
   "pygments_lexer": "ipython3",
   "version": "3.12.8"
  }
 },
 "nbformat": 4,
 "nbformat_minor": 5
}
